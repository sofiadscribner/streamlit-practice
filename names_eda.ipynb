{
 "cells": [
  {
   "cell_type": "code",
   "execution_count": null,
   "metadata": {},
   "outputs": [],
   "source": [
    "import pandas as pd\n",
    "import zipfile\n",
    "import plotly.express as px\n",
    "import matplotlib.pyplot as plt\n",
    "import seaborn as sns\n",
    "import streamlit as st"
   ]
  },
  {
   "cell_type": "code",
   "execution_count": null,
   "metadata": {},
   "outputs": [],
   "source": [
    "# url = 'https://raw.githubusercontent.com/esnt/Data/refs/heads/main/Names/popular_names.csv'\n",
    "# df = pd.read_csv(url)"
   ]
  },
  {
   "cell_type": "code",
   "execution_count": null,
   "metadata": {},
   "outputs": [],
   "source": [
    "names_file = 'NameData/names.zip'\n",
    "with zipfile.ZipFile(names_file, 'r') as z:\n",
    "    dfs = []\n",
    "    files = [file for file in z.namelist() if file.endswith('.txt')]\n",
    "    for file in files:\n",
    "        with z.open(file) as f:\n",
    "            df = pd.read_csv(f)\n",
    "            df.columns = ['name', 'sex', 'count']\n",
    "            df['year'] = file[3:7]\n",
    "            dfs.append(df)\n",
    "\n",
    "df = pd.concat(dfs, ignore_index=True)\n",
    "\n",
    "df['total_births'] = df.groupby(['year', 'sex'])['count'].transform('sum')\n",
    "df['prop'] = df['count'] / df['total_births']\n",
    "df['rank'] = df.groupby(['year', 'sex'])['count'].rank(method='first', ascending=False)\n",
    "\n"
   ]
  },
  {
   "cell_type": "code",
   "execution_count": null,
   "metadata": {},
   "outputs": [],
   "source": []
  },
  {
   "cell_type": "code",
   "execution_count": null,
   "metadata": {},
   "outputs": [],
   "source": [
    "noi = 'Shannon'"
   ]
  },
  {
   "cell_type": "markdown",
   "metadata": {},
   "source": [
    "## Name Specific EDA"
   ]
  },
  {
   "cell_type": "code",
   "execution_count": null,
   "metadata": {},
   "outputs": [],
   "source": [
    "df['total_births'] = df.groupby(['year', 'sex'])['count'].transform('sum')\n",
    "df['prop'] = df['count'] / df['total_births']\n",
    "plot_male = True\n",
    "plot_female = True\n",
    "\n",
    "name_df = df[df['name'] == noi]\n",
    "\n",
    "plt.figure(figsize=(10,5))\n",
    "if plot_female:\n",
    "    sns.lineplot(data=name_df[name_df['sex'] == 'F'], x='year', y='prop', label='Female')\n",
    "if plot_female:\n",
    "    sns.lineplot(data=name_df[name_df['sex'] == 'M'], x='year', y='prop', label='Male')\n",
    "\n",
    "plt.title(f\"Popularity of '{noi}' over time (proportion)\")\n",
    "plt.xlabel('Year')\n",
    "plt.ylabel('Proportion of births')\n",
    "plt.tight_layout()\n",
    "plt.show()"
   ]
  },
  {
   "cell_type": "code",
   "execution_count": null,
   "metadata": {},
   "outputs": [],
   "source": [
    "\n",
    "name_df = df[df['name'] == noi]\n",
    "\n",
    "plt.figure(figsize=(10,5))\n",
    "sns.lineplot(data=name_df, x='year', y='rank', hue='sex')\n",
    "plt.gca().invert_yaxis()  # rank 1 at top\n",
    "plt.title(f\"Rank of '{noi}' over time\")\n",
    "plt.xlabel('Year')\n",
    "plt.ylabel('Rank')\n",
    "plt.tight_layout()\n",
    "plt.show()"
   ]
  },
  {
   "cell_type": "code",
   "execution_count": null,
   "metadata": {},
   "outputs": [],
   "source": [
    "name_df = df[df['name'] == noi]\n",
    "gender_counts = name_df.pivot_table(index='year', columns='sex', values='count', fill_value=0)\n",
    "gender_counts['percent_female'] = gender_counts['F'] / (gender_counts['F'] + gender_counts['M'])\n",
    "\n",
    "plt.figure(figsize=(10,5))\n",
    "plt.plot(gender_counts.index, gender_counts['percent_female'])\n",
    "plt.title(f\"Percent female for '{noi}' over time\")\n",
    "plt.ylabel('Proportion female')\n",
    "plt.xlabel('Year')\n",
    "plt.tight_layout()\n",
    "plt.show()"
   ]
  },
  {
   "cell_type": "code",
   "execution_count": null,
   "metadata": {},
   "outputs": [],
   "source": []
  },
  {
   "cell_type": "code",
   "execution_count": null,
   "metadata": {},
   "outputs": [],
   "source": [
    "name_data = df[df['name'] == noi].copy()\n",
    "yearly_counts = name_data.groupby(['year', 'sex']).sum()['count'].unstack(fill_value=0)\n",
    "yearly_counts['Total'] = yearly_counts['M'] + yearly_counts['F']\n",
    "yearly_counts['Male_Ratio'] = yearly_counts['M'] / yearly_counts['Total']\n",
    "yearly_counts['Female_Ratio'] = yearly_counts['F'] / yearly_counts['Total']\n",
    "yearly_counts = yearly_counts.reset_index()"
   ]
  },
  {
   "cell_type": "code",
   "execution_count": null,
   "metadata": {},
   "outputs": [],
   "source": [
    "plt.figure(figsize=(10, 5))\n",
    "\n",
    "plt.plot(yearly_counts['year'], yearly_counts['Male_Ratio'], label='Male Ratio')\n",
    "plt.plot(yearly_counts['year'], yearly_counts['Female_Ratio'], label='Female Ratio')\n",
    "\n",
    "plt.title(f\"Gender Ratio Over Time for '{noi}'\")\n",
    "plt.xlabel('Year')\n",
    "plt.ylabel('Proportion')\n",
    "plt.ylim(0, 1)\n",
    "plt.legend()\n",
    "plt.tight_layout()\n",
    "plt.show()"
   ]
  },
  {
   "cell_type": "code",
   "execution_count": null,
   "metadata": {},
   "outputs": [],
   "source": [
    "sex_counts = name_data.groupby('sex').sum()['count']\n",
    "male_count = sex_counts.get('M', 0)\n",
    "female_count = sex_counts.get('F', 0)\n",
    "total_count = male_count + female_count\n",
    "if total_count > 0:\n",
    "    male_ratio = male_count / total_count\n",
    "    female_ratio = female_count / total_count\n",
    "\n",
    "    fig, ax = plt.subplots(figsize=(10, 2))\n",
    "\n",
    "    # Create a stacked bar representing male and female ratios\n",
    "    ax.barh(0, male_ratio,  label='Male')\n",
    "    ax.barh(0, female_ratio, left=male_ratio,  label='Female')\n",
    "\n",
    "    # Customize the chart\n",
    "    ax.set_xlim(0, 1)\n",
    "    ax.set_xticks([0, 0.5, 1])\n",
    "    ax.set_xticklabels(['0%', '50%', '100%'])\n",
    "    ax.set_yticks([])  # Hide y-axis ticks\n",
    "\n",
    "    # Add labels to display the ratios\n",
    "    ax.text(male_ratio / 2, 0, f\"{male_ratio * 100:.1f}%\", va='center', \n",
    "            ha='center', color='white', \n",
    "            fontweight='bold',\n",
    "            fontsize=20)\n",
    "    ax.text(male_ratio / 2, -.25, \"male\", va='center', \n",
    "            ha='center', color='white', \n",
    "            fontweight='bold',\n",
    "            fontsize=20)\n",
    "    ax.text(male_ratio + female_ratio / 2, 0, f\"{female_ratio * 100:.1f}%\", va='center', \n",
    "            ha='center', color='white', \n",
    "            fontweight='bold',\n",
    "            fontsize=20)\n",
    "    ax.text(male_ratio + female_ratio / 2, -.25, \"female\", va='center', \n",
    "            ha='center', color='white', \n",
    "            fontweight='bold',\n",
    "            fontsize=20)\n",
    "    plt.title(f\"Sex Balance of the '{noi}' (over all years)\")\n",
    "    plt.show()"
   ]
  },
  {
   "cell_type": "code",
   "execution_count": null,
   "metadata": {},
   "outputs": [],
   "source": []
  },
  {
   "cell_type": "code",
   "execution_count": null,
   "metadata": {},
   "outputs": [],
   "source": []
  },
  {
   "cell_type": "markdown",
   "metadata": {},
   "source": [
    "## Year Summaries"
   ]
  },
  {
   "cell_type": "code",
   "execution_count": null,
   "metadata": {},
   "outputs": [],
   "source": [
    "year_of_interest = \"1990\"\n",
    "top_names = df[df['year'] == year_of_interest]\n",
    "top_female = top_names[top_names['sex'] == 'F'].nlargest(10, 'count')\n",
    "\n",
    "plt.figure(figsize=(10,5))\n",
    "sns.barplot(data=top_female, x='count', y='name')\n",
    "plt.title(f\"Top 10 Female Names in {year_of_interest}\")\n",
    "plt.xlabel('Count')\n",
    "plt.ylabel('Name')\n",
    "plt.tight_layout()\n",
    "plt.show()"
   ]
  },
  {
   "cell_type": "code",
   "execution_count": null,
   "metadata": {},
   "outputs": [],
   "source": [
    "top_male = top_names[top_names['sex'] == 'M'].nlargest(10, 'count')\n",
    "\n",
    "plt.figure(figsize=(10,5))\n",
    "sns.barplot(data=top_male, x='count', y='name')\n",
    "plt.title(f\"Top 10 Male Names in {year_of_interest}\")\n",
    "plt.xlabel('Count')\n",
    "plt.ylabel('Name')\n",
    "plt.tight_layout()\n",
    "plt.show()"
   ]
  },
  {
   "cell_type": "code",
   "execution_count": null,
   "metadata": {},
   "outputs": [],
   "source": []
  },
  {
   "cell_type": "code",
   "execution_count": null,
   "metadata": {},
   "outputs": [],
   "source": [
    "def top_names_by_group(df_group, label):\n",
    "    grouped = df_group.groupby(['sex', 'name'], as_index=False)['count'].sum()\n",
    "\n",
    "    # Get top N per sex without triggering the warning\n",
    "    top_f = grouped[grouped['sex'] == 'F'].nlargest(top_n, 'count')\n",
    "    top_m = grouped[grouped['sex'] == 'M'].nlargest(top_n, 'count')\n",
    "\n",
    "    top_grouped = pd.concat([top_f, top_m], ignore_index=True)\n",
    "    top_grouped['Category'] = label\n",
    "    return top_grouped"
   ]
  },
  {
   "cell_type": "code",
   "execution_count": null,
   "metadata": {},
   "outputs": [],
   "source": [
    "def plot_top_new_names_2x2(df, year, top_n=5, fontname='monospace', fontsize=12):\n",
    "    # Prep name sets\n",
    "    names_before = set(df[df['year'] < year]['name'])\n",
    "    names_after = set(df[df['year'] > year]['name'])\n",
    "    df_year = df[df['year'] == year].copy()\n",
    "    new_names = set(df_year['name']) - names_before\n",
    "    df_new = df_year[df_year['name'].isin(new_names)].copy()\n",
    "    df_new['appears_again'] = df_new['name'].apply(lambda x: x in names_after)\n",
    "\n",
    "    # Setup figure\n",
    "    fig, axes = plt.subplots(2, 2, figsize=(12, 6))\n",
    "    fig.suptitle(f\"Top {top_n} New Names in {year}\", fontsize=16)\n",
    "\n",
    "    # Panel mapping\n",
    "    panel_info = [\n",
    "        ('F', True, 'Female — Appears Again', (0, 0)),\n",
    "        ('F', False, 'Female — One-Year Only', (0, 1)),\n",
    "        ('M', True, 'Male — Appears Again', (1, 0)),\n",
    "        ('M', False, 'Male — One-Year Only', (1, 1))\n",
    "    ]\n",
    "\n",
    "    for sex, appears, title, pos in panel_info:\n",
    "        ax = axes[pos]\n",
    "        subset = df_new[(df_new['sex'] == sex) & (df_new['appears_again'] == appears)]\n",
    "        top = subset.groupby('name', as_index=False)['count'].sum().nlargest(top_n, 'count')\n",
    "\n",
    "        lines = [f\"{row['name']} ({int(row['count'])})\" for _, row in top.iterrows()]\n",
    "        text = \"\\n\".join(lines) if lines else \"No names\"\n",
    "\n",
    "        ax.axis('off')\n",
    "        ax.set_title(title, fontsize=fontsize + 2)\n",
    "        ax.text(\n",
    "            0.5, 0.5, text,\n",
    "            ha='center', va='center',\n",
    "            fontsize=fontsize,\n",
    "            family=fontname\n",
    "        )\n",
    "\n",
    "\n",
    "    plt.tight_layout(rect=[0, 0, 1, 0.93])\n",
    "    plt.close(fig)\n",
    "    return fig"
   ]
  },
  {
   "cell_type": "code",
   "execution_count": null,
   "metadata": {},
   "outputs": [],
   "source": [
    "plot_top_new_names_2x2(df, year='2000', top_n=5)"
   ]
  },
  {
   "cell_type": "code",
   "execution_count": null,
   "metadata": {},
   "outputs": [],
   "source": []
  },
  {
   "cell_type": "markdown",
   "metadata": {},
   "source": [
    "## Summaries overall"
   ]
  },
  {
   "cell_type": "code",
   "execution_count": null,
   "metadata": {},
   "outputs": [],
   "source": [
    "import matplotlib.pyplot as plt\n",
    "\n",
    "# Group by year and sex, then count unique names\n",
    "unique_names_by_gender = df.groupby(['year', 'sex'])['name'].nunique().reset_index()\n",
    "\n",
    "# Plot\n",
    "plt.figure(figsize=(10, 5))\n",
    "for gender in ['F', 'M']:\n",
    "    gender_data = unique_names_by_gender[unique_names_by_gender['sex'] == gender]\n",
    "    plt.plot(gender_data['year'], gender_data['name'], label='Female' if gender == 'F' else 'Male')\n",
    "\n",
    "plt.title('Number of Unique Baby Names per Year by Gender')\n",
    "plt.xlabel('Year')\n",
    "plt.ylabel('Unique Names')\n",
    "plt.legend()\n",
    "plt.tight_layout()\n",
    "plt.show()"
   ]
  },
  {
   "cell_type": "code",
   "execution_count": null,
   "metadata": {},
   "outputs": [],
   "source": [
    "total_by_year = df.groupby('year')['count'].sum().reset_index()\n",
    "\n",
    "fig, ax = plt.subplots(figsize=(10, 4))\n",
    "sns.lineplot(data=total_by_year, x='year', y='count', ax=ax)\n",
    "ax.set_title('Total Number of Births per Year')\n",
    "ax.set_xlabel('Year')\n",
    "ax.set_ylabel('Birth Count')\n",
    "plt.show()\n"
   ]
  },
  {
   "cell_type": "code",
   "execution_count": null,
   "metadata": {},
   "outputs": [],
   "source": [
    "births_by_sex = df.groupby(['year', 'sex'])['count'].sum().unstack().fillna(0)\n",
    "births_by_sex['Total'] = births_by_sex['F'] + births_by_sex['M']\n",
    "births_by_sex['Male Ratio'] = births_by_sex['M'] / births_by_sex['Total']\n",
    "births_by_sex['Female Ratio'] = births_by_sex['F'] / births_by_sex['Total']\n",
    "\n",
    "fig, ax = plt.subplots(figsize=(10, 4))\n",
    "ax.plot(births_by_sex.index, births_by_sex['Male Ratio'], label='Male')\n",
    "ax.plot(births_by_sex.index, births_by_sex['Female Ratio'], label='Female')\n",
    "ax.set_title('Gender Ratio Over Time')\n",
    "ax.set_ylabel('Proportion')\n",
    "ax.set_xlabel('Year')\n",
    "ax.legend()\n",
    "plt.show()"
   ]
  },
  {
   "cell_type": "code",
   "execution_count": null,
   "metadata": {},
   "outputs": [],
   "source": [
    "top_names = df.groupby(['name', 'sex'])['count'].sum().reset_index()\n",
    "top_names = top_names.sort_values('count', ascending=False).groupby('sex').head(10)\n",
    "\n",
    "fig, ax = plt.subplots(figsize=(10, 6))\n",
    "sns.barplot(data=top_names, x='count', y='name', hue='sex', ax=ax)\n",
    "ax.set_title('Top 10 Names of All Time by Sex')\n",
    "ax.set_xlabel('Total Count')\n",
    "ax.set_ylabel('Name')\n",
    "plt.show()"
   ]
  },
  {
   "cell_type": "code",
   "execution_count": null,
   "metadata": {},
   "outputs": [],
   "source": [
    "df['first_letter'] = df['name'].str[0]\n",
    "letter_counts = df.groupby(['year', 'first_letter'])['count'].sum().reset_index()\n",
    "top_letters = letter_counts.groupby('first_letter')['count'].sum().nlargest(5).index\n",
    "letter_counts = letter_counts[letter_counts['first_letter'].isin(top_letters)]\n",
    "\n",
    "fig, ax = plt.subplots(figsize=(10, 4))\n",
    "sns.lineplot(data=letter_counts, x='year', y='count', hue='first_letter', ax=ax)\n",
    "ax.set_title('Top 5 Starting Letters Over Time')\n",
    "ax.set_ylabel('Birth Count')\n",
    "ax.set_xlabel('Year')\n",
    "plt.show()"
   ]
  },
  {
   "cell_type": "code",
   "execution_count": null,
   "metadata": {},
   "outputs": [],
   "source": [
    "# Ensure the first letter column is there\n",
    "if 'first_letter' not in df.columns:\n",
    "    df['first_letter'] = df['name'].str[0]\n",
    "\n",
    "# List of available starting letters\n",
    "available_letters = sorted(df['first_letter'].unique())\n",
    "\n",
    "selected_letters = ['A', 'B', 'C']\n",
    "\n",
    "# Let user select multiple letters\n",
    "# selected_letters = st.multiselect(\n",
    "#     \"Choose one or more starting letters:\", \n",
    "#     available_letters, \n",
    "#     default=['A', 'J'] if 'A' in available_letters and 'J' in available_letters else available_letters[:2]\n",
    "# )\n",
    "\n",
    "# Only plot if at least one letter is selected\n",
    "if selected_letters:\n",
    "    letter_df = df[df['first_letter'].isin(selected_letters)]\n",
    "    letter_counts = letter_df.groupby(['year', 'first_letter'])['count'].sum().reset_index()\n",
    "\n",
    "    fig, ax = plt.subplots(figsize=(10, 4))\n",
    "    sns.lineplot(data=letter_counts, x='year', y='count', hue='first_letter', ax=ax)\n",
    "\n",
    "    ax.set_title(f\"Name Trends for Starting Letters: {', '.join(selected_letters)}\")\n",
    "    ax.set_ylabel('Birth Count')\n",
    "    ax.set_xlabel('Year')\n",
    "    plt.show()\n",
    "else:\n",
    "    pass\n",
    "    # st.info(\"Please select at least one letter to see the trend.\")"
   ]
  },
  {
   "cell_type": "code",
   "execution_count": null,
   "metadata": {},
   "outputs": [],
   "source": []
  }
 ],
 "metadata": {
  "kernelspec": {
   "display_name": "shared",
   "language": "python",
   "name": "python3"
  },
  "language_info": {
   "codemirror_mode": {
    "name": "ipython",
    "version": 3
   },
   "file_extension": ".py",
   "mimetype": "text/x-python",
   "name": "python",
   "nbconvert_exporter": "python",
   "pygments_lexer": "ipython3",
   "version": "3.12.8"
  }
 },
 "nbformat": 4,
 "nbformat_minor": 2
}
